{
 "cells": [
  {
   "cell_type": "markdown",
   "id": "aef33f43-cc01-4af0-b3cf-e6ecd759f70b",
   "metadata": {},
   "source": [
    "# 📝 Homework 3 – Gender Inequality Indicators\n",
    "\n",
    "**Course:** Open-Source Energy System Modeling  \n",
    "**Instructor:** Dr. Daniel Huppmann  \n",
    "**Due Date:** Monday, April 28, 2024 – *End of day*  \n",
    "**Submission:** Per E-Mail als Antwort auf die Aufgabenstellung (inkl. Ausgabe im Notebook)\n",
    "\n",
    "---\n",
    "\n",
    "## 🧠 Aufgabe\n",
    "\n",
    "Erstelle ein **Jupyter Notebook**, das sich mit den **Gender Inequality Indicators** aus dem **SSP-Extensions Explorer** beschäftigt:\n",
    "\n",
    "🔗 **Explorer:** [https://ssp-extensions.apps.ece.iiasa.ac.at](https://ssp-extensions.apps.ece.iiasa.ac.at)\n",
    "\n",
    "---\n",
    "\n",
    "## ✅ Das Notebook soll enthalten:\n",
    "\n",
    "1. **Eigene Informationen**  \n",
    "   - Name, Matrikelnummer, ggf. Studienrichtung  \n",
    "   - Titel, Abgabedatum, Kontext der Aufgabe\n",
    "\n",
    "2. **Kurze Übersicht zu den Daten**\n",
    "   - Quelle (Projekt, Link, Zitation)\n",
    "   - Welche Indikatoren du verwendest\n",
    "   - Was das Ziel der Analyse ist\n",
    "\n",
    "3. **Drei aussagekräftige Abbildungen**  \n",
    "   - Zeige interessante Einblicke, die du aus den Daten gewonnen hast\n",
    "   - Verwende z. B. Linienplots, Balkendiagramme, Heatmaps …\n",
    "\n",
    "4. **Begleittext zur \"Story\"**\n",
    "   - Beschreibe, was deine Plots zeigen\n",
    "   - Welche Muster, Trends oder Erkenntnisse lassen sich daraus ableiten?\n",
    "\n",
    "5. **Ideen für weiterführende Analyse**  \n",
    "   - Weitere mögliche Analysen\n",
    "   - Neue Features/Funktionen der verwendeten Pakete (z. B. `pyam`)\n",
    "\n",
    "---\n",
    "\n",
    "## 🧰 Hilfreiches Tool (optional)\n",
    "\n",
    "Das Paket [`pyam-iamc`](https://pyam-iamc.readthedocs.io) kann für diese Aufgabe hilfreich sein, ist aber **nicht verpflichtend**.\n",
    "\n",
    "📦 Installation:\n",
    "```bash\n",
    "pip install pyam-iamc\n"
   ]
  },
  {
   "cell_type": "code",
   "execution_count": null,
   "id": "e510258f-63ec-4133-81e1-f9b9778299e5",
   "metadata": {},
   "outputs": [],
   "source": []
  }
 ],
 "metadata": {
  "kernelspec": {
   "display_name": "Python 3 (ipykernel)",
   "language": "python",
   "name": "python3"
  },
  "language_info": {
   "codemirror_mode": {
    "name": "ipython",
    "version": 3
   },
   "file_extension": ".py",
   "mimetype": "text/x-python",
   "name": "python",
   "nbconvert_exporter": "python",
   "pygments_lexer": "ipython3",
   "version": "3.10.12"
  }
 },
 "nbformat": 4,
 "nbformat_minor": 5
}
